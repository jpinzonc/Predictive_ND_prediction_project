{
 "cells": [
  {
   "cell_type": "code",
   "execution_count": 1,
   "metadata": {},
   "outputs": [],
   "source": [
    "#https://stackoverflow.com/questions/27928275/find-p-value-significance-in-scikit-learn-linearregression\n",
    "#https://realpython.com/linear-regression-in-python/\n",
    "import pandas as pd\n",
    "import numpy as np\n",
    "\n",
    "from sklearn import datasets, linear_model\n",
    "from sklearn.linear_model import LinearRegression\n",
    "from sklearn import preprocessing\n",
    "import statsmodels.api as sm\n",
    "from scipy import stats\n",
    "\n",
    "import matplotlib.pyplot as plt\n",
    "import seaborn as sns\n",
    "import warnings\n",
    "warnings.filterwarnings('ignore')"
   ]
  },
  {
   "cell_type": "code",
   "execution_count": 2,
   "metadata": {},
   "outputs": [],
   "source": [
    "cust = pd.read_excel('p1-customers.xlsx')"
   ]
  },
  {
   "cell_type": "code",
   "execution_count": 3,
   "metadata": {},
   "outputs": [
    {
     "data": {
      "text/plain": [
       "(2375, 12)"
      ]
     },
     "execution_count": 3,
     "metadata": {},
     "output_type": "execute_result"
    }
   ],
   "source": [
    "cust.shape"
   ]
  },
  {
   "cell_type": "code",
   "execution_count": 4,
   "metadata": {},
   "outputs": [
    {
     "data": {
      "text/html": [
       "<div>\n",
       "<style scoped>\n",
       "    .dataframe tbody tr th:only-of-type {\n",
       "        vertical-align: middle;\n",
       "    }\n",
       "\n",
       "    .dataframe tbody tr th {\n",
       "        vertical-align: top;\n",
       "    }\n",
       "\n",
       "    .dataframe thead th {\n",
       "        text-align: right;\n",
       "    }\n",
       "</style>\n",
       "<table border=\"1\" class=\"dataframe\">\n",
       "  <thead>\n",
       "    <tr style=\"text-align: right;\">\n",
       "      <th></th>\n",
       "      <th>Name</th>\n",
       "      <th>Customer_Segment</th>\n",
       "      <th>Customer_ID</th>\n",
       "      <th>Address</th>\n",
       "      <th>City</th>\n",
       "      <th>State</th>\n",
       "      <th>ZIP</th>\n",
       "      <th>Avg_Sale_Amount</th>\n",
       "      <th>Store_Number</th>\n",
       "      <th>Responded_to_Last_Catalog</th>\n",
       "      <th>Avg_Num_Products_Purchased</th>\n",
       "      <th>#_Years_as_Customer</th>\n",
       "    </tr>\n",
       "  </thead>\n",
       "  <tbody>\n",
       "    <tr>\n",
       "      <th>0</th>\n",
       "      <td>Pamela Wright</td>\n",
       "      <td>Store Mailing List</td>\n",
       "      <td>2</td>\n",
       "      <td>376 S Jasmine St</td>\n",
       "      <td>Denver</td>\n",
       "      <td>CO</td>\n",
       "      <td>80224</td>\n",
       "      <td>227.90</td>\n",
       "      <td>100</td>\n",
       "      <td>No</td>\n",
       "      <td>1</td>\n",
       "      <td>6</td>\n",
       "    </tr>\n",
       "    <tr>\n",
       "      <th>1</th>\n",
       "      <td>Danell Valdez</td>\n",
       "      <td>Store Mailing List</td>\n",
       "      <td>7</td>\n",
       "      <td>12066 E Lake Cir</td>\n",
       "      <td>Greenwood Village</td>\n",
       "      <td>CO</td>\n",
       "      <td>80111</td>\n",
       "      <td>55.00</td>\n",
       "      <td>105</td>\n",
       "      <td>Yes</td>\n",
       "      <td>1</td>\n",
       "      <td>6</td>\n",
       "    </tr>\n",
       "    <tr>\n",
       "      <th>2</th>\n",
       "      <td>Jessica Rinehart</td>\n",
       "      <td>Store Mailing List</td>\n",
       "      <td>8</td>\n",
       "      <td>7225 S Gaylord St</td>\n",
       "      <td>Centennial</td>\n",
       "      <td>CO</td>\n",
       "      <td>80122</td>\n",
       "      <td>212.57</td>\n",
       "      <td>101</td>\n",
       "      <td>No</td>\n",
       "      <td>1</td>\n",
       "      <td>3</td>\n",
       "    </tr>\n",
       "    <tr>\n",
       "      <th>3</th>\n",
       "      <td>Nancy Clark</td>\n",
       "      <td>Store Mailing List</td>\n",
       "      <td>9</td>\n",
       "      <td>4497 Cornish Way</td>\n",
       "      <td>Denver</td>\n",
       "      <td>CO</td>\n",
       "      <td>80239</td>\n",
       "      <td>195.31</td>\n",
       "      <td>105</td>\n",
       "      <td>Yes</td>\n",
       "      <td>1</td>\n",
       "      <td>6</td>\n",
       "    </tr>\n",
       "    <tr>\n",
       "      <th>4</th>\n",
       "      <td>Andrea Brun</td>\n",
       "      <td>Store Mailing List</td>\n",
       "      <td>10</td>\n",
       "      <td>2316 E 5th Ave</td>\n",
       "      <td>Denver</td>\n",
       "      <td>CO</td>\n",
       "      <td>80206</td>\n",
       "      <td>110.55</td>\n",
       "      <td>100</td>\n",
       "      <td>Yes</td>\n",
       "      <td>1</td>\n",
       "      <td>2</td>\n",
       "    </tr>\n",
       "  </tbody>\n",
       "</table>\n",
       "</div>"
      ],
      "text/plain": [
       "               Name    Customer_Segment  Customer_ID            Address  \\\n",
       "0     Pamela Wright  Store Mailing List            2   376 S Jasmine St   \n",
       "1     Danell Valdez  Store Mailing List            7   12066 E Lake Cir   \n",
       "2  Jessica Rinehart  Store Mailing List            8  7225 S Gaylord St   \n",
       "3       Nancy Clark  Store Mailing List            9   4497 Cornish Way   \n",
       "4       Andrea Brun  Store Mailing List           10     2316 E 5th Ave   \n",
       "\n",
       "                City State    ZIP  Avg_Sale_Amount  Store_Number  \\\n",
       "0             Denver    CO  80224           227.90           100   \n",
       "1  Greenwood Village    CO  80111            55.00           105   \n",
       "2         Centennial    CO  80122           212.57           101   \n",
       "3             Denver    CO  80239           195.31           105   \n",
       "4             Denver    CO  80206           110.55           100   \n",
       "\n",
       "  Responded_to_Last_Catalog  Avg_Num_Products_Purchased  #_Years_as_Customer  \n",
       "0                        No                           1                    6  \n",
       "1                       Yes                           1                    6  \n",
       "2                        No                           1                    3  \n",
       "3                       Yes                           1                    6  \n",
       "4                       Yes                           1                    2  "
      ]
     },
     "execution_count": 4,
     "metadata": {},
     "output_type": "execute_result"
    }
   ],
   "source": [
    "cust.head()"
   ]
  },
  {
   "cell_type": "code",
   "execution_count": 5,
   "metadata": {},
   "outputs": [
    {
     "name": "stdout",
     "output_type": "stream",
     "text": [
      "<class 'pandas.core.frame.DataFrame'>\n",
      "RangeIndex: 2375 entries, 0 to 2374\n",
      "Data columns (total 12 columns):\n",
      "Name                          2375 non-null object\n",
      "Customer_Segment              2375 non-null object\n",
      "Customer_ID                   2375 non-null int64\n",
      "Address                       2375 non-null object\n",
      "City                          2375 non-null object\n",
      "State                         2375 non-null object\n",
      "ZIP                           2375 non-null int64\n",
      "Avg_Sale_Amount               2375 non-null float64\n",
      "Store_Number                  2375 non-null int64\n",
      "Responded_to_Last_Catalog     2375 non-null object\n",
      "Avg_Num_Products_Purchased    2375 non-null int64\n",
      "#_Years_as_Customer           2375 non-null int64\n",
      "dtypes: float64(1), int64(5), object(6)\n",
      "memory usage: 222.7+ KB\n"
     ]
    }
   ],
   "source": [
    "cust.info()"
   ]
  },
  {
   "cell_type": "code",
   "execution_count": 6,
   "metadata": {},
   "outputs": [
    {
     "data": {
      "text/plain": [
       "4"
      ]
     },
     "execution_count": 6,
     "metadata": {},
     "output_type": "execute_result"
    }
   ],
   "source": [
    "cust.Customer_Segment.nunique()"
   ]
  },
  {
   "cell_type": "code",
   "execution_count": 7,
   "metadata": {},
   "outputs": [
    {
     "data": {
      "text/plain": [
       "27"
      ]
     },
     "execution_count": 7,
     "metadata": {},
     "output_type": "execute_result"
    }
   ],
   "source": [
    "cust.City.nunique()"
   ]
  },
  {
   "cell_type": "code",
   "execution_count": 8,
   "metadata": {},
   "outputs": [
    {
     "data": {
      "text/plain": [
       "86"
      ]
     },
     "execution_count": 8,
     "metadata": {},
     "output_type": "execute_result"
    }
   ],
   "source": [
    "cust.ZIP.nunique()"
   ]
  },
  {
   "cell_type": "code",
   "execution_count": 9,
   "metadata": {},
   "outputs": [
    {
     "data": {
      "text/plain": [
       "10"
      ]
     },
     "execution_count": 9,
     "metadata": {},
     "output_type": "execute_result"
    }
   ],
   "source": [
    "cust.Store_Number.nunique()"
   ]
  },
  {
   "cell_type": "code",
   "execution_count": 10,
   "metadata": {},
   "outputs": [
    {
     "data": {
      "text/plain": [
       "23"
      ]
     },
     "execution_count": 10,
     "metadata": {},
     "output_type": "execute_result"
    }
   ],
   "source": [
    "cust.Avg_Num_Products_Purchased.nunique()"
   ]
  },
  {
   "cell_type": "code",
   "execution_count": 11,
   "metadata": {},
   "outputs": [
    {
     "data": {
      "text/plain": [
       "2"
      ]
     },
     "execution_count": 11,
     "metadata": {},
     "output_type": "execute_result"
    }
   ],
   "source": [
    "cust.Responded_to_Last_Catalog.nunique() # Can not included because there is no field like this in the new customers data set"
   ]
  },
  {
   "cell_type": "code",
   "execution_count": 12,
   "metadata": {},
   "outputs": [],
   "source": [
    "columns_to_keep = ['City',\t'ZIP'\t,'Avg_Sale_Amount'\t,'Customer_Segment','Store_Number','Avg_Num_Products_Purchased',\t'#_Years_as_Customer']"
   ]
  },
  {
   "cell_type": "code",
   "execution_count": 13,
   "metadata": {},
   "outputs": [],
   "source": [
    "cus_p = cust[columns_to_keep]"
   ]
  },
  {
   "cell_type": "code",
   "execution_count": 14,
   "metadata": {},
   "outputs": [
    {
     "data": {
      "text/html": [
       "<div>\n",
       "<style scoped>\n",
       "    .dataframe tbody tr th:only-of-type {\n",
       "        vertical-align: middle;\n",
       "    }\n",
       "\n",
       "    .dataframe tbody tr th {\n",
       "        vertical-align: top;\n",
       "    }\n",
       "\n",
       "    .dataframe thead th {\n",
       "        text-align: right;\n",
       "    }\n",
       "</style>\n",
       "<table border=\"1\" class=\"dataframe\">\n",
       "  <thead>\n",
       "    <tr style=\"text-align: right;\">\n",
       "      <th></th>\n",
       "      <th>City</th>\n",
       "      <th>ZIP</th>\n",
       "      <th>Avg_Sale_Amount</th>\n",
       "      <th>Customer_Segment</th>\n",
       "      <th>Store_Number</th>\n",
       "      <th>Avg_Num_Products_Purchased</th>\n",
       "      <th>#_Years_as_Customer</th>\n",
       "    </tr>\n",
       "  </thead>\n",
       "  <tbody>\n",
       "    <tr>\n",
       "      <th>0</th>\n",
       "      <td>Denver</td>\n",
       "      <td>80224</td>\n",
       "      <td>227.90</td>\n",
       "      <td>Store Mailing List</td>\n",
       "      <td>100</td>\n",
       "      <td>1</td>\n",
       "      <td>6</td>\n",
       "    </tr>\n",
       "    <tr>\n",
       "      <th>1</th>\n",
       "      <td>Greenwood Village</td>\n",
       "      <td>80111</td>\n",
       "      <td>55.00</td>\n",
       "      <td>Store Mailing List</td>\n",
       "      <td>105</td>\n",
       "      <td>1</td>\n",
       "      <td>6</td>\n",
       "    </tr>\n",
       "    <tr>\n",
       "      <th>2</th>\n",
       "      <td>Centennial</td>\n",
       "      <td>80122</td>\n",
       "      <td>212.57</td>\n",
       "      <td>Store Mailing List</td>\n",
       "      <td>101</td>\n",
       "      <td>1</td>\n",
       "      <td>3</td>\n",
       "    </tr>\n",
       "    <tr>\n",
       "      <th>3</th>\n",
       "      <td>Denver</td>\n",
       "      <td>80239</td>\n",
       "      <td>195.31</td>\n",
       "      <td>Store Mailing List</td>\n",
       "      <td>105</td>\n",
       "      <td>1</td>\n",
       "      <td>6</td>\n",
       "    </tr>\n",
       "    <tr>\n",
       "      <th>4</th>\n",
       "      <td>Denver</td>\n",
       "      <td>80206</td>\n",
       "      <td>110.55</td>\n",
       "      <td>Store Mailing List</td>\n",
       "      <td>100</td>\n",
       "      <td>1</td>\n",
       "      <td>2</td>\n",
       "    </tr>\n",
       "  </tbody>\n",
       "</table>\n",
       "</div>"
      ],
      "text/plain": [
       "                City    ZIP  Avg_Sale_Amount    Customer_Segment  \\\n",
       "0             Denver  80224           227.90  Store Mailing List   \n",
       "1  Greenwood Village  80111            55.00  Store Mailing List   \n",
       "2         Centennial  80122           212.57  Store Mailing List   \n",
       "3             Denver  80239           195.31  Store Mailing List   \n",
       "4             Denver  80206           110.55  Store Mailing List   \n",
       "\n",
       "   Store_Number  Avg_Num_Products_Purchased  #_Years_as_Customer  \n",
       "0           100                           1                    6  \n",
       "1           105                           1                    6  \n",
       "2           101                           1                    3  \n",
       "3           105                           1                    6  \n",
       "4           100                           1                    2  "
      ]
     },
     "execution_count": 14,
     "metadata": {},
     "output_type": "execute_result"
    }
   ],
   "source": [
    "cus_p.head()"
   ]
  },
  {
   "cell_type": "code",
   "execution_count": 15,
   "metadata": {},
   "outputs": [],
   "source": [
    "cus_p[['City',\t'ZIP', 'Customer_Segment']] = cus_p[['City', 'ZIP', 'Customer_Segment']]\\\n",
    "        .apply(preprocessing.LabelEncoder().fit_transform)"
   ]
  },
  {
   "cell_type": "code",
   "execution_count": 16,
   "metadata": {},
   "outputs": [
    {
     "data": {
      "text/plain": [
       "City                          0\n",
       "ZIP                           0\n",
       "Avg_Sale_Amount               0\n",
       "Customer_Segment              0\n",
       "Store_Number                  0\n",
       "Avg_Num_Products_Purchased    0\n",
       "#_Years_as_Customer           0\n",
       "dtype: int64"
      ]
     },
     "execution_count": 16,
     "metadata": {},
     "output_type": "execute_result"
    }
   ],
   "source": [
    "cus_p.isna().sum()"
   ]
  },
  {
   "cell_type": "code",
   "execution_count": 17,
   "metadata": {},
   "outputs": [
    {
     "data": {
      "image/png": "[encoded data removed]",
      "text/plain": [
       "<Figure size 720x720 with 2 Axes>"
      ]
     },
     "metadata": {
      "needs_background": "light"
     },
     "output_type": "display_data"
    }
   ],
   "source": [
    "# Generating the dataframe for the correlation \n",
    "num_col_list = cus_p.columns\n",
    "cor_df = pd.DataFrame()\n",
    "for i in range(0,len(num_col_list)):\n",
    "    cor_df = pd.concat([cor_df, cus_p[num_col_list[i]]],axis=1)    \n",
    "# Calculate the correlation\n",
    "corr = cor_df.corr()\n",
    "# Plot the correlations \n",
    "f, ax = plt.subplots(figsize=(10, 10))\n",
    "sns.heatmap(corr, mask=np.zeros_like(corr, dtype=np.bool), cmap=sns.diverging_palette(250, 15, as_cmap=True),\n",
    "            square=True, ax=ax, annot=True, vmin=0, vmax=1, linewidths=2, xticklabels=1, yticklabels=True)\n",
    "ax.set_xticklabels(\n",
    "    ax.get_xticklabels(),\n",
    "    rotation=45,\n",
    "    horizontalalignment='right'\n",
    ");"
   ]
  },
  {
   "cell_type": "code",
   "execution_count": 19,
   "metadata": {},
   "outputs": [],
   "source": [
    "X = cus_p[['City',\t'ZIP'\t,'Store_Number',\t'Avg_Num_Products_Purchased','Customer_Segment','#_Years_as_Customer']]\n",
    "y = cus_p[['Avg_Sale_Amount'\t]]"
   ]
  },
  {
   "cell_type": "code",
   "execution_count": 20,
   "metadata": {},
   "outputs": [
    {
     "name": "stdout",
     "output_type": "stream",
     "text": [
      "                            OLS Regression Results                            \n",
      "==============================================================================\n",
      "Dep. Variable:        Avg_Sale_Amount   R-squared:                       0.739\n",
      "Model:                            OLS   Adj. R-squared:                  0.738\n",
      "Method:                 Least Squares   F-statistic:                     1118.\n",
      "Date:                Sat, 26 Oct 2019   Prob (F-statistic):               0.00\n",
      "Time:                        06:55:18   Log-Likelihood:                -15618.\n",
      "No. Observations:                2375   AIC:                         3.125e+04\n",
      "Df Residuals:                    2368   BIC:                         3.129e+04\n",
      "Df Model:                           6                                         \n",
      "Covariance Type:            nonrobust                                         \n",
      "==============================================================================================\n",
      "                                 coef    std err          t      P>|t|      [0.025      0.975]\n",
      "----------------------------------------------------------------------------------------------\n",
      "const                        107.6301    136.113      0.791      0.429    -159.283     374.543\n",
      "City                          -0.0201      0.565     -0.036      0.972      -1.129       1.089\n",
      "ZIP                            0.0735      0.167      0.441      0.659      -0.253       0.400\n",
      "Store_Number                   0.1117      1.291      0.087      0.931      -2.420       2.643\n",
      "Avg_Num_Products_Purchased    99.3527      1.582     62.790      0.000      96.250     102.456\n",
      "Customer_Segment             -27.4969      3.530     -7.788      0.000     -34.420     -20.574\n",
      "#_Years_as_Customer           -1.0527      1.547     -0.680      0.496      -4.087       1.981\n",
      "==============================================================================\n",
      "Omnibus:                      729.778   Durbin-Watson:                   1.448\n",
      "Prob(Omnibus):                  0.000   Jarque-Bera (JB):             5068.328\n",
      "Skew:                           1.268   Prob(JB):                         0.00\n",
      "Kurtosis:                       9.692   Cond. No.                     4.21e+03\n",
      "==============================================================================\n",
      "\n",
      "Warnings:\n",
      "[1] Standard Errors assume that the covariance matrix of the errors is correctly specified.\n",
      "[2] The condition number is large, 4.21e+03. This might indicate that there are\n",
      "strong multicollinearity or other numerical problems.\n"
     ]
    }
   ],
   "source": [
    "X2 = sm.add_constant(X)\n",
    "est = sm.OLS(y, X2)\n",
    "est2 = est.fit()\n",
    "print(est2.summary())"
   ]
  },
  {
   "cell_type": "code",
   "execution_count": 21,
   "metadata": {},
   "outputs": [
    {
     "data": {
      "text/html": [
       "<table class=\"simpletable\">\n",
       "<tr>\n",
       "               <td></td>                 <th>coef</th>     <th>std err</th>      <th>t</th>      <th>P>|t|</th>  <th>[0.025</th>    <th>0.975]</th>  \n",
       "</tr>\n",
       "<tr>\n",
       "  <th>const</th>                      <td>  107.6301</td> <td>  136.113</td> <td>    0.791</td> <td> 0.429</td> <td> -159.283</td> <td>  374.543</td>\n",
       "</tr>\n",
       "<tr>\n",
       "  <th>City</th>                       <td>   -0.0201</td> <td>    0.565</td> <td>   -0.036</td> <td> 0.972</td> <td>   -1.129</td> <td>    1.089</td>\n",
       "</tr>\n",
       "<tr>\n",
       "  <th>ZIP</th>                        <td>    0.0735</td> <td>    0.167</td> <td>    0.441</td> <td> 0.659</td> <td>   -0.253</td> <td>    0.400</td>\n",
       "</tr>\n",
       "<tr>\n",
       "  <th>Store_Number</th>               <td>    0.1117</td> <td>    1.291</td> <td>    0.087</td> <td> 0.931</td> <td>   -2.420</td> <td>    2.643</td>\n",
       "</tr>\n",
       "<tr>\n",
       "  <th>Avg_Num_Products_Purchased</th> <td>   99.3527</td> <td>    1.582</td> <td>   62.790</td> <td> 0.000</td> <td>   96.250</td> <td>  102.456</td>\n",
       "</tr>\n",
       "<tr>\n",
       "  <th>Customer_Segment</th>           <td>  -27.4969</td> <td>    3.530</td> <td>   -7.788</td> <td> 0.000</td> <td>  -34.420</td> <td>  -20.574</td>\n",
       "</tr>\n",
       "<tr>\n",
       "  <th>#_Years_as_Customer</th>        <td>   -1.0527</td> <td>    1.547</td> <td>   -0.680</td> <td> 0.496</td> <td>   -4.087</td> <td>    1.981</td>\n",
       "</tr>\n",
       "</table>"
      ],
      "text/plain": [
       "<class 'statsmodels.iolib.table.SimpleTable'>"
      ]
     },
     "execution_count": 21,
     "metadata": {},
     "output_type": "execute_result"
    }
   ],
   "source": [
    "est2.summary().tables[1]"
   ]
  },
  {
   "cell_type": "code",
   "execution_count": 22,
   "metadata": {},
   "outputs": [
    {
     "data": {
      "text/plain": [
       "<matplotlib.legend.Legend at 0x1c1897f470>"
      ]
     },
     "execution_count": 22,
     "metadata": {},
     "output_type": "execute_result"
    },
    {
     "data": {
      "image/png": "[encoded data removed]",
      "text/plain": [
       "<Figure size 720x360 with 1 Axes>"
      ]
     },
     "metadata": {
      "needs_background": "light"
     },
     "output_type": "display_data"
    }
   ],
   "source": [
    "f, ax = plt.subplots(1, 1, figsize=(10,5))\n",
    "sns.regplot(X['Avg_Num_Products_Purchased'],y.Avg_Sale_Amount, label = 'Raw')\n",
    "sns.regplot(X['Avg_Num_Products_Purchased'],y.Avg_Sale_Amount, x_estimator=np.mean, ci = 95, label = 'Mean', marker = '+').set_title(\"Avg_Num_Products_Purchased versus Avg_Sale_Amount\")\n",
    "ax.legend()"
   ]
  },
  {
   "cell_type": "code",
   "execution_count": 23,
   "metadata": {},
   "outputs": [
    {
     "data": {
      "text/plain": [
       "<seaborn.axisgrid.JointGrid at 0x1c1891d908>"
      ]
     },
     "execution_count": 23,
     "metadata": {},
     "output_type": "execute_result"
    },
    {
     "data": {
      "image/png": "[encoded data removed]",
      "text/plain": [
       "<Figure size 432x432 with 3 Axes>"
      ]
     },
     "metadata": {
      "needs_background": "light"
     },
     "output_type": "display_data"
    }
   ],
   "source": [
    "from scipy import stats\n",
    "def r2(x, y):\n",
    "    return stats.pearsonr(x, y)[0] ** 2\n",
    "sns.jointplot(X['Avg_Num_Products_Purchased'],y.Avg_Sale_Amount,  x_estimator=np.mean, kind=\"reg\", stat_func=r2)"
   ]
  },
  {
   "cell_type": "code",
   "execution_count": 24,
   "metadata": {},
   "outputs": [
    {
     "name": "stdout",
     "output_type": "stream",
     "text": [
      "106.2801833311655 44.01516316515119 0.8557542170755577 0.0 1.3190649136004962\n"
     ]
    }
   ],
   "source": [
    "slope, intercept, r_value, p_value, std_err = stats.linregress(X['Avg_Num_Products_Purchased'],y.Avg_Sale_Amount)\n",
    "print(slope, intercept, r_value, p_value, std_err)"
   ]
  },
  {
   "cell_type": "code",
   "execution_count": 42,
   "metadata": {},
   "outputs": [],
   "source": [
    "data = cust[['Customer_Segment', 'Avg_Num_Products_Purchased', 'Avg_Sale_Amount'\t]]"
   ]
  },
  {
   "cell_type": "code",
   "execution_count": 43,
   "metadata": {},
   "outputs": [
    {
     "data": {
      "text/plain": [
       "array([3, 3, 3, ..., 0, 0, 0])"
      ]
     },
     "execution_count": 43,
     "metadata": {},
     "output_type": "execute_result"
    }
   ],
   "source": [
    "lcs = preprocessing.LabelEncoder()\n",
    "lcs.fit(data[['Customer_Segment']].values)\n",
    "lcs.transform(data[['Customer_Segment']].values)"
   ]
  },
  {
   "cell_type": "code",
   "execution_count": 44,
   "metadata": {},
   "outputs": [],
   "source": [
    "data.loc[:,'Customer_Segment'] = lcs.transform(data[['Customer_Segment']].values)"
   ]
  },
  {
   "cell_type": "code",
   "execution_count": 54,
   "metadata": {},
   "outputs": [
    {
     "data": {
      "text/plain": [
       "0.74"
      ]
     },
     "execution_count": 54,
     "metadata": {},
     "output_type": "execute_result"
    }
   ],
   "source": [
    "model = LinearRegression()\n",
    "model.fit(data[['Customer_Segment', 'Avg_Num_Products_Purchased']], data[['Avg_Sale_Amount'\t]])\n",
    "r_sq = model.score(data[['Customer_Segment', 'Avg_Num_Products_Purchased']], data[['Avg_Sale_Amount'\t]])\n",
    "np.round(r_sq, 2)"
   ]
  },
  {
   "cell_type": "code",
   "execution_count": 50,
   "metadata": {},
   "outputs": [
    {
     "data": {
      "text/plain": [
       "<bound method RegressorMixin.score of LinearRegression(copy_X=True, fit_intercept=True, n_jobs=None, normalize=False)>"
      ]
     },
     "execution_count": 50,
     "metadata": {},
     "output_type": "execute_result"
    }
   ],
   "source": [
    "model.score"
   ]
  },
  {
   "cell_type": "code",
   "execution_count": 46,
   "metadata": {},
   "outputs": [
    {
     "data": {
      "text/plain": [
       "'predicted_amount = 117.06 + -27.52 * Customer_Segment  + 99.31 *  Avg_Num_Products_Purchased'"
      ]
     },
     "execution_count": 46,
     "metadata": {},
     "output_type": "execute_result"
    }
   ],
   "source": [
    "equation = 'predicted_amount = {} + {} * Customer_Segment  + {} *  Avg_Num_Products_Purchased'.format(np.round(model.intercept_[0],2), np.round(model.coef_[0][0], 2), np.round(model.coef_[0][1],2))\n",
    "equation"
   ]
  },
  {
   "cell_type": "code",
   "execution_count": 47,
   "metadata": {},
   "outputs": [],
   "source": [
    "new1 = pd.read_excel('p1-mailinglist.xlsx')\n",
    "columns_to_keep1 = ['Customer_Segment', 'Avg_Num_Products_Purchased']"
   ]
  },
  {
   "cell_type": "code",
   "execution_count": 48,
   "metadata": {},
   "outputs": [
    {
     "data": {
      "text/plain": [
       "22141.93"
      ]
     },
     "execution_count": 48,
     "metadata": {},
     "output_type": "execute_result"
    }
   ],
   "source": [
    "new = new1[columns_to_keep1]\n",
    "new.loc[:, 'Customer_Segment'] = lcs.transform(new[['Customer_Segment']].values)\n",
    "new.loc[:,'pre_value'] = model.predict(new)\n",
    "new = new.merge(new1[['Score_Yes']], left_index = True, right_index = True)\n",
    "new.loc[:,'recommended'] = new.pre_value * new.Score_Yes\n",
    "new.loc[:,'pofit'] = (new.recommended * 0.5 ) - 6.5\n",
    "np.round(new.pofit.sum(),2)"
   ]
  },
  {
   "cell_type": "code",
   "execution_count": 49,
   "metadata": {},
   "outputs": [
    {
     "data": {
      "text/html": [
       "<div>\n",
       "<style scoped>\n",
       "    .dataframe tbody tr th:only-of-type {\n",
       "        vertical-align: middle;\n",
       "    }\n",
       "\n",
       "    .dataframe tbody tr th {\n",
       "        vertical-align: top;\n",
       "    }\n",
       "\n",
       "    .dataframe thead th {\n",
       "        text-align: right;\n",
       "    }\n",
       "</style>\n",
       "<table border=\"1\" class=\"dataframe\">\n",
       "  <thead>\n",
       "    <tr style=\"text-align: right;\">\n",
       "      <th></th>\n",
       "      <th>Customer_Segment</th>\n",
       "      <th>Avg_Num_Products_Purchased</th>\n",
       "      <th>pre_value</th>\n",
       "      <th>Score_Yes</th>\n",
       "      <th>recommended</th>\n",
       "      <th>pofit</th>\n",
       "    </tr>\n",
       "  </thead>\n",
       "  <tbody>\n",
       "    <tr>\n",
       "      <th>0</th>\n",
       "      <td>1</td>\n",
       "      <td>3</td>\n",
       "      <td>387.475961</td>\n",
       "      <td>0.305036</td>\n",
       "      <td>118.194042</td>\n",
       "      <td>52.597021</td>\n",
       "    </tr>\n",
       "    <tr>\n",
       "      <th>1</th>\n",
       "      <td>2</td>\n",
       "      <td>6</td>\n",
       "      <td>657.893822</td>\n",
       "      <td>0.472725</td>\n",
       "      <td>311.002552</td>\n",
       "      <td>149.001276</td>\n",
       "    </tr>\n",
       "    <tr>\n",
       "      <th>2</th>\n",
       "      <td>1</td>\n",
       "      <td>7</td>\n",
       "      <td>784.723622</td>\n",
       "      <td>0.578882</td>\n",
       "      <td>454.262262</td>\n",
       "      <td>220.631131</td>\n",
       "    </tr>\n",
       "    <tr>\n",
       "      <th>3</th>\n",
       "      <td>1</td>\n",
       "      <td>2</td>\n",
       "      <td>288.164046</td>\n",
       "      <td>0.305138</td>\n",
       "      <td>87.929746</td>\n",
       "      <td>37.464873</td>\n",
       "    </tr>\n",
       "    <tr>\n",
       "      <th>4</th>\n",
       "      <td>1</td>\n",
       "      <td>4</td>\n",
       "      <td>486.787876</td>\n",
       "      <td>0.387706</td>\n",
       "      <td>188.730510</td>\n",
       "      <td>87.865255</td>\n",
       "    </tr>\n",
       "  </tbody>\n",
       "</table>\n",
       "</div>"
      ],
      "text/plain": [
       "   Customer_Segment  Avg_Num_Products_Purchased   pre_value  Score_Yes  \\\n",
       "0                 1                           3  387.475961   0.305036   \n",
       "1                 2                           6  657.893822   0.472725   \n",
       "2                 1                           7  784.723622   0.578882   \n",
       "3                 1                           2  288.164046   0.305138   \n",
       "4                 1                           4  486.787876   0.387706   \n",
       "\n",
       "   recommended       pofit  \n",
       "0   118.194042   52.597021  \n",
       "1   311.002552  149.001276  \n",
       "2   454.262262  220.631131  \n",
       "3    87.929746   37.464873  \n",
       "4   188.730510   87.865255  "
      ]
     },
     "execution_count": 49,
     "metadata": {},
     "output_type": "execute_result"
    }
   ],
   "source": [
    "new.head()"
   ]
  },
  {
   "cell_type": "code",
   "execution_count": 55,
   "metadata": {},
   "outputs": [
    {
     "data": {
      "text/plain": [
       "2.214193"
      ]
     },
     "execution_count": 55,
     "metadata": {},
     "output_type": "execute_result"
    }
   ],
   "source": [
    "np.round(new.pofit.sum(),2) / 10000"
   ]
  },
  {
   "cell_type": "code",
   "execution_count": null,
   "metadata": {},
   "outputs": [],
   "source": []
  }
 ],
 "metadata": {
  "kernelspec": {
   "display_name": "Python 3",
   "language": "python",
   "name": "python3"
  },
  "language_info": {
   "codemirror_mode": {
    "name": "ipython",
    "version": 3
   },
   "file_extension": ".py",
   "mimetype": "text/x-python",
   "name": "python",
   "nbconvert_exporter": "python",
   "pygments_lexer": "ipython3",
   "version": "3.7.3"
  }
 },
 "nbformat": 4,
 "nbformat_minor": 4
}
